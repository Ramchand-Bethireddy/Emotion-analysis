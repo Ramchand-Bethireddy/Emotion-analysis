{
  "nbformat": 4,
  "nbformat_minor": 0,
  "metadata": {
    "colab": {
      "provenance": []
    },
    "kernelspec": {
      "name": "python3",
      "display_name": "Python 3"
    },
    "language_info": {
      "name": "python"
    }
  },
  "cells": [
    {
      "cell_type": "code",
      "source": [
        "import pandas as pd\n",
        "from sklearn.feature_extraction.text import TfidfVectorizer\n",
        "from sklearn.model_selection import train_test_split\n",
        "from sklearn.naive_bayes import MultinomialNB\n",
        "from sklearn.svm import SVC\n",
        "from sklearn.linear_model import LogisticRegression\n",
        "from sklearn.ensemble import VotingClassifier\n",
        "from sklearn.metrics import classification_report, accuracy_score"
      ],
      "metadata": {
        "id": "scjR5s4Vem26"
      },
      "execution_count": 1,
      "outputs": []
    },
    {
      "cell_type": "code",
      "source": [
        "# Define the mapping of numbers to emotion labels\n",
        "emotion_mapping = {\n",
        "    0: 'sadness',\n",
        "    1: 'joy',\n",
        "    2: 'love',\n",
        "    3: 'anger',\n",
        "    4: 'fear',\n",
        "    5: 'surprise'\n",
        "}\n",
        "\n",
        "# Load the dataset\n",
        "data = pd.read_csv('/text.csv')\n",
        "\n",
        "# Check if the dataset has been loaded correctly\n",
        "print(\"Data preview:\")\n",
        "print(data.head())"
      ],
      "metadata": {
        "colab": {
          "base_uri": "https://localhost:8080/"
        },
        "id": "lMCYBQpXerdU",
        "outputId": "7a566148-9069-42bc-b113-e4ac7b56437e"
      },
      "execution_count": 2,
      "outputs": [
        {
          "output_type": "stream",
          "name": "stdout",
          "text": [
            "Data preview:\n",
            "   Unnamed: 0                                               text  label\n",
            "0           0      i just feel really helpless and heavy hearted      4\n",
            "1           1  ive enjoyed being able to slouch about relax a...      0\n",
            "2           2  i gave up my internship with the dmrg and am f...      4\n",
            "3           3                         i dont know i feel so lost      0\n",
            "4           4  i am a kindergarten teacher and i am thoroughl...      4\n"
          ]
        }
      ]
    },
    {
      "cell_type": "code",
      "execution_count": 3,
      "metadata": {
        "colab": {
          "base_uri": "https://localhost:8080/"
        },
        "id": "bzwHRxDCehdD",
        "outputId": "93088d6e-315e-470e-88bb-b9ba6ab21e65"
      },
      "outputs": [
        {
          "output_type": "stream",
          "name": "stdout",
          "text": [
            "Accuracy: 0.7247\n",
            "Classification Report:\n",
            "              precision    recall  f1-score   support\n",
            "\n",
            "       anger       0.94      0.50      0.65     17295\n",
            "        fear       0.92      0.35      0.51     14394\n",
            "         joy       0.67      0.98      0.79     42255\n",
            "        love       0.97      0.13      0.23     10241\n",
            "     sadness       0.73      0.94      0.82     36261\n",
            "    surprise       0.96      0.03      0.06      4597\n",
            "\n",
            "    accuracy                           0.72    125043\n",
            "   macro avg       0.86      0.49      0.51    125043\n",
            "weighted avg       0.79      0.72      0.68    125043\n",
            "\n"
          ]
        }
      ],
      "source": [
        "# Extract text and labels\n",
        "texts = data['text']\n",
        "labels_numeric = data['label']\n",
        "\n",
        "# Map numeric labels to emotion names\n",
        "labels = labels_numeric.map(emotion_mapping)\n",
        "\n",
        "# Vectorize the text data\n",
        "vectorizer = TfidfVectorizer()\n",
        "X = vectorizer.fit_transform(texts)\n",
        "\n",
        "# Split the data into training and test sets\n",
        "X_train, X_test, y_train, y_test = train_test_split(X, labels, test_size=0.3, random_state=42)\n",
        "\n",
        "# Train a Naive Bayes classifier\n",
        "model = MultinomialNB()\n",
        "model.fit(X_train, y_train)\n",
        "\n",
        "# Predict on the test set\n",
        "y_pred = model.predict(X_test)\n",
        "\n",
        "# Calculate and print the accuracy\n",
        "accuracy = accuracy_score(y_test, y_pred)\n",
        "print(f\"Accuracy: {accuracy:.4f}\")\n",
        "\n",
        "# Evaluate the model\n",
        "print(\"Classification Report:\")\n",
        "print(classification_report(y_test, y_pred))\n",
        "\n"
      ]
    },
    {
      "cell_type": "code",
      "source": [
        "# Interactive input for new text data\n",
        "while True:\n",
        "    new_text = input(\"Enter a sentence for emotion prediction (or type 'exit' to quit): \")\n",
        "    if new_text.lower() == 'exit':\n",
        "        break\n",
        "\n",
        "    # Transform the input text\n",
        "    new_X = vectorizer.transform([new_text])\n",
        "    prediction_numeric = model.predict(new_X)\n",
        "\n",
        "    # Check the type of prediction\n",
        "    print(f\"Raw prediction: {prediction_numeric[0]}\")\n",
        "\n",
        "    # Ensure prediction is numeric\n",
        "    try:\n",
        "        predicted_emotion = emotion_mapping[int(prediction_numeric[0])]\n",
        "    except ValueError as e:\n",
        "        #print(f\"Error converting prediction: {e}\")\n",
        "        continue\n",
        "\n",
        "    print(f\"Text: {new_text} -> Predicted Emotion: {predicted_emotion}\")"
      ],
      "metadata": {
        "id": "m6p9w4avgp3D"
      },
      "execution_count": null,
      "outputs": []
    },
    {
      "cell_type": "code",
      "source": [
        "\n"
      ],
      "metadata": {
        "id": "Hsv4PNyMey1T"
      },
      "execution_count": null,
      "outputs": []
    },
    {
      "cell_type": "code",
      "source": [],
      "metadata": {
        "id": "b0nhNHOphYpb"
      },
      "execution_count": null,
      "outputs": []
    }
  ]
}